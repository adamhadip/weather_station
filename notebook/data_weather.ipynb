{
 "cells": [
  {
   "cell_type": "code",
   "execution_count": 1,
   "metadata": {},
   "outputs": [],
   "source": [
    "import pandas as pd\n",
    "import numpy as np\n",
    "import matplotlib.pyplot as plt\n",
    "import joblib \n",
    "import yaml\n",
    "import seaborn as sns\n",
    "\n",
    "pd.set_option('display.max_rows',100)\n"
   ]
  },
  {
   "cell_type": "code",
   "execution_count": 2,
   "metadata": {},
   "outputs": [
    {
     "name": "stdout",
     "output_type": "stream",
     "text": [
      "{'data_raw': '/weather_station/src/dataweatherstation.csv', 'datetime_cols': ['tanggal'], 'float_columns': ['tekanan_udara'], 'int_cols': ['hujan', 'kelembabpan', 'temperature', 'tingkat_cahaya'], 'target': 'keterangan', 'predictors': ['hujan', 'kelembabpan', 'tekanan_udara', 'temperature', 'tingkat_cahaya']}\n"
     ]
    }
   ],
   "source": [
    "with open('/weather_station/config/config.yaml', 'r') as l :\n",
    "    config = yaml.safe_load(l)\n",
    "print(config)"
   ]
  },
  {
   "cell_type": "code",
   "execution_count": 3,
   "metadata": {},
   "outputs": [
    {
     "data": {
      "text/html": [
       "<div>\n",
       "<style scoped>\n",
       "    .dataframe tbody tr th:only-of-type {\n",
       "        vertical-align: middle;\n",
       "    }\n",
       "\n",
       "    .dataframe tbody tr th {\n",
       "        vertical-align: top;\n",
       "    }\n",
       "\n",
       "    .dataframe thead th {\n",
       "        text-align: right;\n",
       "    }\n",
       "</style>\n",
       "<table border=\"1\" class=\"dataframe\">\n",
       "  <thead>\n",
       "    <tr style=\"text-align: right;\">\n",
       "      <th></th>\n",
       "      <th>id</th>\n",
       "      <th>tanggal</th>\n",
       "      <th>hujan</th>\n",
       "      <th>kelembabpan</th>\n",
       "      <th>tekanan_udara</th>\n",
       "      <th>temperature</th>\n",
       "      <th>tingkat_cahaya</th>\n",
       "      <th>keterangan</th>\n",
       "    </tr>\n",
       "  </thead>\n",
       "  <tbody>\n",
       "    <tr>\n",
       "      <th>0</th>\n",
       "      <td>9470</td>\n",
       "      <td>3/9/2023 1:01</td>\n",
       "      <td>0</td>\n",
       "      <td>98</td>\n",
       "      <td>93657.02</td>\n",
       "      <td>23</td>\n",
       "      <td>0</td>\n",
       "      <td>cerah</td>\n",
       "    </tr>\n",
       "    <tr>\n",
       "      <th>1</th>\n",
       "      <td>9469</td>\n",
       "      <td>3/9/2023 1:01</td>\n",
       "      <td>0</td>\n",
       "      <td>98</td>\n",
       "      <td>93656.45</td>\n",
       "      <td>23</td>\n",
       "      <td>0</td>\n",
       "      <td>cerah</td>\n",
       "    </tr>\n",
       "    <tr>\n",
       "      <th>2</th>\n",
       "      <td>9490</td>\n",
       "      <td>3/9/2023 1:02</td>\n",
       "      <td>0</td>\n",
       "      <td>98</td>\n",
       "      <td>93656.99</td>\n",
       "      <td>23</td>\n",
       "      <td>0</td>\n",
       "      <td>cerah</td>\n",
       "    </tr>\n",
       "    <tr>\n",
       "      <th>3</th>\n",
       "      <td>9489</td>\n",
       "      <td>3/9/2023 1:02</td>\n",
       "      <td>0</td>\n",
       "      <td>98</td>\n",
       "      <td>93656.55</td>\n",
       "      <td>23</td>\n",
       "      <td>0</td>\n",
       "      <td>cerah</td>\n",
       "    </tr>\n",
       "    <tr>\n",
       "      <th>4</th>\n",
       "      <td>9488</td>\n",
       "      <td>3/9/2023 1:02</td>\n",
       "      <td>0</td>\n",
       "      <td>98</td>\n",
       "      <td>93657.02</td>\n",
       "      <td>23</td>\n",
       "      <td>0</td>\n",
       "      <td>cerah</td>\n",
       "    </tr>\n",
       "    <tr>\n",
       "      <th>...</th>\n",
       "      <td>...</td>\n",
       "      <td>...</td>\n",
       "      <td>...</td>\n",
       "      <td>...</td>\n",
       "      <td>...</td>\n",
       "      <td>...</td>\n",
       "      <td>...</td>\n",
       "      <td>...</td>\n",
       "    </tr>\n",
       "    <tr>\n",
       "      <th>49303</th>\n",
       "      <td>88929</td>\n",
       "      <td>3/19/2023 22:14</td>\n",
       "      <td>0</td>\n",
       "      <td>98</td>\n",
       "      <td>93613.57</td>\n",
       "      <td>23</td>\n",
       "      <td>0</td>\n",
       "      <td>cerah</td>\n",
       "    </tr>\n",
       "    <tr>\n",
       "      <th>49304</th>\n",
       "      <td>88928</td>\n",
       "      <td>3/19/2023 22:14</td>\n",
       "      <td>0</td>\n",
       "      <td>98</td>\n",
       "      <td>93613.58</td>\n",
       "      <td>23</td>\n",
       "      <td>0</td>\n",
       "      <td>cerah</td>\n",
       "    </tr>\n",
       "    <tr>\n",
       "      <th>49305</th>\n",
       "      <td>88927</td>\n",
       "      <td>3/19/2023 22:14</td>\n",
       "      <td>0</td>\n",
       "      <td>98</td>\n",
       "      <td>93613.53</td>\n",
       "      <td>23</td>\n",
       "      <td>0</td>\n",
       "      <td>cerah</td>\n",
       "    </tr>\n",
       "    <tr>\n",
       "      <th>49306</th>\n",
       "      <td>88926</td>\n",
       "      <td>3/19/2023 22:14</td>\n",
       "      <td>0</td>\n",
       "      <td>98</td>\n",
       "      <td>93613.22</td>\n",
       "      <td>23</td>\n",
       "      <td>0</td>\n",
       "      <td>cerah</td>\n",
       "    </tr>\n",
       "    <tr>\n",
       "      <th>49307</th>\n",
       "      <td>88925</td>\n",
       "      <td>3/19/2023 22:14</td>\n",
       "      <td>0</td>\n",
       "      <td>98</td>\n",
       "      <td>93612.99</td>\n",
       "      <td>23</td>\n",
       "      <td>0</td>\n",
       "      <td>cerah</td>\n",
       "    </tr>\n",
       "  </tbody>\n",
       "</table>\n",
       "<p>49308 rows × 8 columns</p>\n",
       "</div>"
      ],
      "text/plain": [
       "          id          tanggal  hujan  kelembabpan  tekanan_udara  temperature  \\\n",
       "0       9470    3/9/2023 1:01      0           98       93657.02           23   \n",
       "1       9469    3/9/2023 1:01      0           98       93656.45           23   \n",
       "2       9490    3/9/2023 1:02      0           98       93656.99           23   \n",
       "3       9489    3/9/2023 1:02      0           98       93656.55           23   \n",
       "4       9488    3/9/2023 1:02      0           98       93657.02           23   \n",
       "...      ...              ...    ...          ...            ...          ...   \n",
       "49303  88929  3/19/2023 22:14      0           98       93613.57           23   \n",
       "49304  88928  3/19/2023 22:14      0           98       93613.58           23   \n",
       "49305  88927  3/19/2023 22:14      0           98       93613.53           23   \n",
       "49306  88926  3/19/2023 22:14      0           98       93613.22           23   \n",
       "49307  88925  3/19/2023 22:14      0           98       93612.99           23   \n",
       "\n",
       "       tingkat_cahaya keterangan  \n",
       "0                   0      cerah  \n",
       "1                   0      cerah  \n",
       "2                   0      cerah  \n",
       "3                   0      cerah  \n",
       "4                   0      cerah  \n",
       "...               ...        ...  \n",
       "49303               0      cerah  \n",
       "49304               0      cerah  \n",
       "49305               0      cerah  \n",
       "49306               0      cerah  \n",
       "49307               0      cerah  \n",
       "\n",
       "[49308 rows x 8 columns]"
      ]
     },
     "execution_count": 3,
     "metadata": {},
     "output_type": "execute_result"
    }
   ],
   "source": [
    "weather = pd.read_csv(config['data_raw'])\n",
    "weather"
   ]
  },
  {
   "cell_type": "markdown",
   "metadata": {},
   "source": [
    "## CLEANSING"
   ]
  },
  {
   "cell_type": "code",
   "execution_count": 4,
   "metadata": {},
   "outputs": [
    {
     "data": {
      "text/plain": [
       "id                0\n",
       "tanggal           0\n",
       "hujan             0\n",
       "kelembabpan       0\n",
       "tekanan_udara     0\n",
       "temperature       0\n",
       "tingkat_cahaya    0\n",
       "keterangan        0\n",
       "dtype: int64"
      ]
     },
     "execution_count": 4,
     "metadata": {},
     "output_type": "execute_result"
    }
   ],
   "source": [
    "weather.isnull().sum()\n",
    "\n",
    "# TIDAK ADA MISSING VALUES"
   ]
  },
  {
   "cell_type": "code",
   "execution_count": 5,
   "metadata": {},
   "outputs": [
    {
     "data": {
      "text/plain": [
       "id                  int64\n",
       "tanggal            object\n",
       "hujan               int64\n",
       "kelembabpan         int64\n",
       "tekanan_udara     float64\n",
       "temperature         int64\n",
       "tingkat_cahaya      int64\n",
       "keterangan         object\n",
       "dtype: object"
      ]
     },
     "execution_count": 5,
     "metadata": {},
     "output_type": "execute_result"
    }
   ],
   "source": [
    "weather.dtypes"
   ]
  },
  {
   "cell_type": "code",
   "execution_count": 6,
   "metadata": {},
   "outputs": [],
   "source": [
    "weather['tanggal'] = pd.to_datetime(weather['tanggal'])"
   ]
  },
  {
   "cell_type": "code",
   "execution_count": 7,
   "metadata": {},
   "outputs": [
    {
     "data": {
      "text/plain": [
       "id                         int64\n",
       "tanggal           datetime64[ns]\n",
       "hujan                      int64\n",
       "kelembabpan                int64\n",
       "tekanan_udara            float64\n",
       "temperature                int64\n",
       "tingkat_cahaya             int64\n",
       "keterangan                object\n",
       "dtype: object"
      ]
     },
     "execution_count": 7,
     "metadata": {},
     "output_type": "execute_result"
    }
   ],
   "source": [
    "weather.dtypes"
   ]
  },
  {
   "cell_type": "markdown",
   "metadata": {},
   "source": [
    " CHECK TINGKAT CAHAYA NYA "
   ]
  },
  {
   "cell_type": "code",
   "execution_count": 8,
   "metadata": {},
   "outputs": [],
   "source": [
    "mask_time = weather['tingkat_cahaya'] > 50"
   ]
  },
  {
   "cell_type": "code",
   "execution_count": 9,
   "metadata": {},
   "outputs": [],
   "source": [
    "mask = ((weather['tanggal'].dt.hour >= 18) | (weather['tanggal'].dt.hour < 22))"
   ]
  },
  {
   "cell_type": "code",
   "execution_count": 10,
   "metadata": {},
   "outputs": [],
   "source": [
    "mask_drop = mask_time & mask\n"
   ]
  },
  {
   "cell_type": "code",
   "execution_count": 11,
   "metadata": {},
   "outputs": [
    {
     "data": {
      "text/html": [
       "<div>\n",
       "<style scoped>\n",
       "    .dataframe tbody tr th:only-of-type {\n",
       "        vertical-align: middle;\n",
       "    }\n",
       "\n",
       "    .dataframe tbody tr th {\n",
       "        vertical-align: top;\n",
       "    }\n",
       "\n",
       "    .dataframe thead th {\n",
       "        text-align: right;\n",
       "    }\n",
       "</style>\n",
       "<table border=\"1\" class=\"dataframe\">\n",
       "  <thead>\n",
       "    <tr style=\"text-align: right;\">\n",
       "      <th></th>\n",
       "      <th>id</th>\n",
       "      <th>tanggal</th>\n",
       "      <th>hujan</th>\n",
       "      <th>kelembabpan</th>\n",
       "      <th>tekanan_udara</th>\n",
       "      <th>temperature</th>\n",
       "      <th>tingkat_cahaya</th>\n",
       "      <th>keterangan</th>\n",
       "    </tr>\n",
       "  </thead>\n",
       "  <tbody>\n",
       "    <tr>\n",
       "      <th>0</th>\n",
       "      <td>9470</td>\n",
       "      <td>2023-03-09 01:01:00</td>\n",
       "      <td>0</td>\n",
       "      <td>98</td>\n",
       "      <td>93657.02</td>\n",
       "      <td>23</td>\n",
       "      <td>0</td>\n",
       "      <td>cerah</td>\n",
       "    </tr>\n",
       "    <tr>\n",
       "      <th>1</th>\n",
       "      <td>9469</td>\n",
       "      <td>2023-03-09 01:01:00</td>\n",
       "      <td>0</td>\n",
       "      <td>98</td>\n",
       "      <td>93656.45</td>\n",
       "      <td>23</td>\n",
       "      <td>0</td>\n",
       "      <td>cerah</td>\n",
       "    </tr>\n",
       "    <tr>\n",
       "      <th>2</th>\n",
       "      <td>9490</td>\n",
       "      <td>2023-03-09 01:02:00</td>\n",
       "      <td>0</td>\n",
       "      <td>98</td>\n",
       "      <td>93656.99</td>\n",
       "      <td>23</td>\n",
       "      <td>0</td>\n",
       "      <td>cerah</td>\n",
       "    </tr>\n",
       "    <tr>\n",
       "      <th>3</th>\n",
       "      <td>9489</td>\n",
       "      <td>2023-03-09 01:02:00</td>\n",
       "      <td>0</td>\n",
       "      <td>98</td>\n",
       "      <td>93656.55</td>\n",
       "      <td>23</td>\n",
       "      <td>0</td>\n",
       "      <td>cerah</td>\n",
       "    </tr>\n",
       "    <tr>\n",
       "      <th>4</th>\n",
       "      <td>9488</td>\n",
       "      <td>2023-03-09 01:02:00</td>\n",
       "      <td>0</td>\n",
       "      <td>98</td>\n",
       "      <td>93657.02</td>\n",
       "      <td>23</td>\n",
       "      <td>0</td>\n",
       "      <td>cerah</td>\n",
       "    </tr>\n",
       "    <tr>\n",
       "      <th>...</th>\n",
       "      <td>...</td>\n",
       "      <td>...</td>\n",
       "      <td>...</td>\n",
       "      <td>...</td>\n",
       "      <td>...</td>\n",
       "      <td>...</td>\n",
       "      <td>...</td>\n",
       "      <td>...</td>\n",
       "    </tr>\n",
       "    <tr>\n",
       "      <th>49303</th>\n",
       "      <td>88929</td>\n",
       "      <td>2023-03-19 22:14:00</td>\n",
       "      <td>0</td>\n",
       "      <td>98</td>\n",
       "      <td>93613.57</td>\n",
       "      <td>23</td>\n",
       "      <td>0</td>\n",
       "      <td>cerah</td>\n",
       "    </tr>\n",
       "    <tr>\n",
       "      <th>49304</th>\n",
       "      <td>88928</td>\n",
       "      <td>2023-03-19 22:14:00</td>\n",
       "      <td>0</td>\n",
       "      <td>98</td>\n",
       "      <td>93613.58</td>\n",
       "      <td>23</td>\n",
       "      <td>0</td>\n",
       "      <td>cerah</td>\n",
       "    </tr>\n",
       "    <tr>\n",
       "      <th>49305</th>\n",
       "      <td>88927</td>\n",
       "      <td>2023-03-19 22:14:00</td>\n",
       "      <td>0</td>\n",
       "      <td>98</td>\n",
       "      <td>93613.53</td>\n",
       "      <td>23</td>\n",
       "      <td>0</td>\n",
       "      <td>cerah</td>\n",
       "    </tr>\n",
       "    <tr>\n",
       "      <th>49306</th>\n",
       "      <td>88926</td>\n",
       "      <td>2023-03-19 22:14:00</td>\n",
       "      <td>0</td>\n",
       "      <td>98</td>\n",
       "      <td>93613.22</td>\n",
       "      <td>23</td>\n",
       "      <td>0</td>\n",
       "      <td>cerah</td>\n",
       "    </tr>\n",
       "    <tr>\n",
       "      <th>49307</th>\n",
       "      <td>88925</td>\n",
       "      <td>2023-03-19 22:14:00</td>\n",
       "      <td>0</td>\n",
       "      <td>98</td>\n",
       "      <td>93612.99</td>\n",
       "      <td>23</td>\n",
       "      <td>0</td>\n",
       "      <td>cerah</td>\n",
       "    </tr>\n",
       "  </tbody>\n",
       "</table>\n",
       "<p>25782 rows × 8 columns</p>\n",
       "</div>"
      ],
      "text/plain": [
       "          id             tanggal  hujan  kelembabpan  tekanan_udara  \\\n",
       "0       9470 2023-03-09 01:01:00      0           98       93657.02   \n",
       "1       9469 2023-03-09 01:01:00      0           98       93656.45   \n",
       "2       9490 2023-03-09 01:02:00      0           98       93656.99   \n",
       "3       9489 2023-03-09 01:02:00      0           98       93656.55   \n",
       "4       9488 2023-03-09 01:02:00      0           98       93657.02   \n",
       "...      ...                 ...    ...          ...            ...   \n",
       "49303  88929 2023-03-19 22:14:00      0           98       93613.57   \n",
       "49304  88928 2023-03-19 22:14:00      0           98       93613.58   \n",
       "49305  88927 2023-03-19 22:14:00      0           98       93613.53   \n",
       "49306  88926 2023-03-19 22:14:00      0           98       93613.22   \n",
       "49307  88925 2023-03-19 22:14:00      0           98       93612.99   \n",
       "\n",
       "       temperature  tingkat_cahaya keterangan  \n",
       "0               23               0      cerah  \n",
       "1               23               0      cerah  \n",
       "2               23               0      cerah  \n",
       "3               23               0      cerah  \n",
       "4               23               0      cerah  \n",
       "...            ...             ...        ...  \n",
       "49303           23               0      cerah  \n",
       "49304           23               0      cerah  \n",
       "49305           23               0      cerah  \n",
       "49306           23               0      cerah  \n",
       "49307           23               0      cerah  \n",
       "\n",
       "[25782 rows x 8 columns]"
      ]
     },
     "execution_count": 11,
     "metadata": {},
     "output_type": "execute_result"
    }
   ],
   "source": [
    "weather = weather.drop(weather[mask_drop].index)\n",
    "weather"
   ]
  },
  {
   "cell_type": "code",
   "execution_count": 12,
   "metadata": {},
   "outputs": [
    {
     "data": {
      "text/html": [
       "<div>\n",
       "<style scoped>\n",
       "    .dataframe tbody tr th:only-of-type {\n",
       "        vertical-align: middle;\n",
       "    }\n",
       "\n",
       "    .dataframe tbody tr th {\n",
       "        vertical-align: top;\n",
       "    }\n",
       "\n",
       "    .dataframe thead th {\n",
       "        text-align: right;\n",
       "    }\n",
       "</style>\n",
       "<table border=\"1\" class=\"dataframe\">\n",
       "  <thead>\n",
       "    <tr style=\"text-align: right;\">\n",
       "      <th></th>\n",
       "      <th>tanggal</th>\n",
       "      <th>hujan</th>\n",
       "      <th>kelembabpan</th>\n",
       "      <th>tekanan_udara</th>\n",
       "      <th>temperature</th>\n",
       "      <th>tingkat_cahaya</th>\n",
       "      <th>keterangan</th>\n",
       "    </tr>\n",
       "  </thead>\n",
       "  <tbody>\n",
       "    <tr>\n",
       "      <th>0</th>\n",
       "      <td>2023-03-09 01:01:00</td>\n",
       "      <td>0</td>\n",
       "      <td>98</td>\n",
       "      <td>93657.02</td>\n",
       "      <td>23</td>\n",
       "      <td>0</td>\n",
       "      <td>cerah</td>\n",
       "    </tr>\n",
       "    <tr>\n",
       "      <th>1</th>\n",
       "      <td>2023-03-09 01:01:00</td>\n",
       "      <td>0</td>\n",
       "      <td>98</td>\n",
       "      <td>93656.45</td>\n",
       "      <td>23</td>\n",
       "      <td>0</td>\n",
       "      <td>cerah</td>\n",
       "    </tr>\n",
       "    <tr>\n",
       "      <th>2</th>\n",
       "      <td>2023-03-09 01:02:00</td>\n",
       "      <td>0</td>\n",
       "      <td>98</td>\n",
       "      <td>93656.99</td>\n",
       "      <td>23</td>\n",
       "      <td>0</td>\n",
       "      <td>cerah</td>\n",
       "    </tr>\n",
       "    <tr>\n",
       "      <th>3</th>\n",
       "      <td>2023-03-09 01:02:00</td>\n",
       "      <td>0</td>\n",
       "      <td>98</td>\n",
       "      <td>93656.55</td>\n",
       "      <td>23</td>\n",
       "      <td>0</td>\n",
       "      <td>cerah</td>\n",
       "    </tr>\n",
       "    <tr>\n",
       "      <th>4</th>\n",
       "      <td>2023-03-09 01:02:00</td>\n",
       "      <td>0</td>\n",
       "      <td>98</td>\n",
       "      <td>93657.02</td>\n",
       "      <td>23</td>\n",
       "      <td>0</td>\n",
       "      <td>cerah</td>\n",
       "    </tr>\n",
       "    <tr>\n",
       "      <th>...</th>\n",
       "      <td>...</td>\n",
       "      <td>...</td>\n",
       "      <td>...</td>\n",
       "      <td>...</td>\n",
       "      <td>...</td>\n",
       "      <td>...</td>\n",
       "      <td>...</td>\n",
       "    </tr>\n",
       "    <tr>\n",
       "      <th>49303</th>\n",
       "      <td>2023-03-19 22:14:00</td>\n",
       "      <td>0</td>\n",
       "      <td>98</td>\n",
       "      <td>93613.57</td>\n",
       "      <td>23</td>\n",
       "      <td>0</td>\n",
       "      <td>cerah</td>\n",
       "    </tr>\n",
       "    <tr>\n",
       "      <th>49304</th>\n",
       "      <td>2023-03-19 22:14:00</td>\n",
       "      <td>0</td>\n",
       "      <td>98</td>\n",
       "      <td>93613.58</td>\n",
       "      <td>23</td>\n",
       "      <td>0</td>\n",
       "      <td>cerah</td>\n",
       "    </tr>\n",
       "    <tr>\n",
       "      <th>49305</th>\n",
       "      <td>2023-03-19 22:14:00</td>\n",
       "      <td>0</td>\n",
       "      <td>98</td>\n",
       "      <td>93613.53</td>\n",
       "      <td>23</td>\n",
       "      <td>0</td>\n",
       "      <td>cerah</td>\n",
       "    </tr>\n",
       "    <tr>\n",
       "      <th>49306</th>\n",
       "      <td>2023-03-19 22:14:00</td>\n",
       "      <td>0</td>\n",
       "      <td>98</td>\n",
       "      <td>93613.22</td>\n",
       "      <td>23</td>\n",
       "      <td>0</td>\n",
       "      <td>cerah</td>\n",
       "    </tr>\n",
       "    <tr>\n",
       "      <th>49307</th>\n",
       "      <td>2023-03-19 22:14:00</td>\n",
       "      <td>0</td>\n",
       "      <td>98</td>\n",
       "      <td>93612.99</td>\n",
       "      <td>23</td>\n",
       "      <td>0</td>\n",
       "      <td>cerah</td>\n",
       "    </tr>\n",
       "  </tbody>\n",
       "</table>\n",
       "<p>25782 rows × 7 columns</p>\n",
       "</div>"
      ],
      "text/plain": [
       "                  tanggal  hujan  kelembabpan  tekanan_udara  temperature  \\\n",
       "0     2023-03-09 01:01:00      0           98       93657.02           23   \n",
       "1     2023-03-09 01:01:00      0           98       93656.45           23   \n",
       "2     2023-03-09 01:02:00      0           98       93656.99           23   \n",
       "3     2023-03-09 01:02:00      0           98       93656.55           23   \n",
       "4     2023-03-09 01:02:00      0           98       93657.02           23   \n",
       "...                   ...    ...          ...            ...          ...   \n",
       "49303 2023-03-19 22:14:00      0           98       93613.57           23   \n",
       "49304 2023-03-19 22:14:00      0           98       93613.58           23   \n",
       "49305 2023-03-19 22:14:00      0           98       93613.53           23   \n",
       "49306 2023-03-19 22:14:00      0           98       93613.22           23   \n",
       "49307 2023-03-19 22:14:00      0           98       93612.99           23   \n",
       "\n",
       "       tingkat_cahaya keterangan  \n",
       "0                   0      cerah  \n",
       "1                   0      cerah  \n",
       "2                   0      cerah  \n",
       "3                   0      cerah  \n",
       "4                   0      cerah  \n",
       "...               ...        ...  \n",
       "49303               0      cerah  \n",
       "49304               0      cerah  \n",
       "49305               0      cerah  \n",
       "49306               0      cerah  \n",
       "49307               0      cerah  \n",
       "\n",
       "[25782 rows x 7 columns]"
      ]
     },
     "execution_count": 12,
     "metadata": {},
     "output_type": "execute_result"
    }
   ],
   "source": [
    "weather = weather.drop(['id'], axis=1)\n",
    "weather"
   ]
  },
  {
   "cell_type": "code",
   "execution_count": 13,
   "metadata": {},
   "outputs": [
    {
     "data": {
      "text/plain": [
       "array(['cerah', 'hujan', 'gerimis'], dtype=object)"
      ]
     },
     "execution_count": 13,
     "metadata": {},
     "output_type": "execute_result"
    }
   ],
   "source": [
    "weather['keterangan'].unique()"
   ]
  },
  {
   "cell_type": "code",
   "execution_count": 14,
   "metadata": {},
   "outputs": [],
   "source": [
    "from sklearn.preprocessing import LabelEncoder"
   ]
  },
  {
   "cell_type": "code",
   "execution_count": 15,
   "metadata": {},
   "outputs": [
    {
     "data": {
      "text/html": [
       "<div>\n",
       "<style scoped>\n",
       "    .dataframe tbody tr th:only-of-type {\n",
       "        vertical-align: middle;\n",
       "    }\n",
       "\n",
       "    .dataframe tbody tr th {\n",
       "        vertical-align: top;\n",
       "    }\n",
       "\n",
       "    .dataframe thead th {\n",
       "        text-align: right;\n",
       "    }\n",
       "</style>\n",
       "<table border=\"1\" class=\"dataframe\">\n",
       "  <thead>\n",
       "    <tr style=\"text-align: right;\">\n",
       "      <th></th>\n",
       "      <th>tanggal</th>\n",
       "      <th>hujan</th>\n",
       "      <th>kelembabpan</th>\n",
       "      <th>tekanan_udara</th>\n",
       "      <th>temperature</th>\n",
       "      <th>tingkat_cahaya</th>\n",
       "      <th>keterangan</th>\n",
       "    </tr>\n",
       "  </thead>\n",
       "  <tbody>\n",
       "    <tr>\n",
       "      <th>0</th>\n",
       "      <td>2023-03-09 01:01:00</td>\n",
       "      <td>0</td>\n",
       "      <td>98</td>\n",
       "      <td>93657.02</td>\n",
       "      <td>23</td>\n",
       "      <td>0</td>\n",
       "      <td>0</td>\n",
       "    </tr>\n",
       "    <tr>\n",
       "      <th>1</th>\n",
       "      <td>2023-03-09 01:01:00</td>\n",
       "      <td>0</td>\n",
       "      <td>98</td>\n",
       "      <td>93656.45</td>\n",
       "      <td>23</td>\n",
       "      <td>0</td>\n",
       "      <td>0</td>\n",
       "    </tr>\n",
       "    <tr>\n",
       "      <th>2</th>\n",
       "      <td>2023-03-09 01:02:00</td>\n",
       "      <td>0</td>\n",
       "      <td>98</td>\n",
       "      <td>93656.99</td>\n",
       "      <td>23</td>\n",
       "      <td>0</td>\n",
       "      <td>0</td>\n",
       "    </tr>\n",
       "    <tr>\n",
       "      <th>3</th>\n",
       "      <td>2023-03-09 01:02:00</td>\n",
       "      <td>0</td>\n",
       "      <td>98</td>\n",
       "      <td>93656.55</td>\n",
       "      <td>23</td>\n",
       "      <td>0</td>\n",
       "      <td>0</td>\n",
       "    </tr>\n",
       "    <tr>\n",
       "      <th>4</th>\n",
       "      <td>2023-03-09 01:02:00</td>\n",
       "      <td>0</td>\n",
       "      <td>98</td>\n",
       "      <td>93657.02</td>\n",
       "      <td>23</td>\n",
       "      <td>0</td>\n",
       "      <td>0</td>\n",
       "    </tr>\n",
       "    <tr>\n",
       "      <th>...</th>\n",
       "      <td>...</td>\n",
       "      <td>...</td>\n",
       "      <td>...</td>\n",
       "      <td>...</td>\n",
       "      <td>...</td>\n",
       "      <td>...</td>\n",
       "      <td>...</td>\n",
       "    </tr>\n",
       "    <tr>\n",
       "      <th>49303</th>\n",
       "      <td>2023-03-19 22:14:00</td>\n",
       "      <td>0</td>\n",
       "      <td>98</td>\n",
       "      <td>93613.57</td>\n",
       "      <td>23</td>\n",
       "      <td>0</td>\n",
       "      <td>0</td>\n",
       "    </tr>\n",
       "    <tr>\n",
       "      <th>49304</th>\n",
       "      <td>2023-03-19 22:14:00</td>\n",
       "      <td>0</td>\n",
       "      <td>98</td>\n",
       "      <td>93613.58</td>\n",
       "      <td>23</td>\n",
       "      <td>0</td>\n",
       "      <td>0</td>\n",
       "    </tr>\n",
       "    <tr>\n",
       "      <th>49305</th>\n",
       "      <td>2023-03-19 22:14:00</td>\n",
       "      <td>0</td>\n",
       "      <td>98</td>\n",
       "      <td>93613.53</td>\n",
       "      <td>23</td>\n",
       "      <td>0</td>\n",
       "      <td>0</td>\n",
       "    </tr>\n",
       "    <tr>\n",
       "      <th>49306</th>\n",
       "      <td>2023-03-19 22:14:00</td>\n",
       "      <td>0</td>\n",
       "      <td>98</td>\n",
       "      <td>93613.22</td>\n",
       "      <td>23</td>\n",
       "      <td>0</td>\n",
       "      <td>0</td>\n",
       "    </tr>\n",
       "    <tr>\n",
       "      <th>49307</th>\n",
       "      <td>2023-03-19 22:14:00</td>\n",
       "      <td>0</td>\n",
       "      <td>98</td>\n",
       "      <td>93612.99</td>\n",
       "      <td>23</td>\n",
       "      <td>0</td>\n",
       "      <td>0</td>\n",
       "    </tr>\n",
       "  </tbody>\n",
       "</table>\n",
       "<p>25782 rows × 7 columns</p>\n",
       "</div>"
      ],
      "text/plain": [
       "                  tanggal  hujan  kelembabpan  tekanan_udara  temperature  \\\n",
       "0     2023-03-09 01:01:00      0           98       93657.02           23   \n",
       "1     2023-03-09 01:01:00      0           98       93656.45           23   \n",
       "2     2023-03-09 01:02:00      0           98       93656.99           23   \n",
       "3     2023-03-09 01:02:00      0           98       93656.55           23   \n",
       "4     2023-03-09 01:02:00      0           98       93657.02           23   \n",
       "...                   ...    ...          ...            ...          ...   \n",
       "49303 2023-03-19 22:14:00      0           98       93613.57           23   \n",
       "49304 2023-03-19 22:14:00      0           98       93613.58           23   \n",
       "49305 2023-03-19 22:14:00      0           98       93613.53           23   \n",
       "49306 2023-03-19 22:14:00      0           98       93613.22           23   \n",
       "49307 2023-03-19 22:14:00      0           98       93612.99           23   \n",
       "\n",
       "       tingkat_cahaya  keterangan  \n",
       "0                   0           0  \n",
       "1                   0           0  \n",
       "2                   0           0  \n",
       "3                   0           0  \n",
       "4                   0           0  \n",
       "...               ...         ...  \n",
       "49303               0           0  \n",
       "49304               0           0  \n",
       "49305               0           0  \n",
       "49306               0           0  \n",
       "49307               0           0  \n",
       "\n",
       "[25782 rows x 7 columns]"
      ]
     },
     "execution_count": 15,
     "metadata": {},
     "output_type": "execute_result"
    }
   ],
   "source": [
    "le = LabelEncoder()\n",
    "weather['keterangan'] = le.fit_transform(weather['keterangan'])\n",
    "weather"
   ]
  },
  {
   "cell_type": "code",
   "execution_count": 16,
   "metadata": {},
   "outputs": [],
   "source": [
    "weather = weather.drop(['tanggal'],axis=1)"
   ]
  },
  {
   "cell_type": "code",
   "execution_count": 17,
   "metadata": {},
   "outputs": [
    {
     "data": {
      "image/png": "[encoded data removed]",
      "text/plain": [
       "<Figure size 640x480 with 1 Axes>"
      ]
     },
     "metadata": {},
     "output_type": "display_data"
    },
    {
     "data": {
      "image/png": "[encoded data removed]",
      "text/plain": [
       "<Figure size 640x480 with 1 Axes>"
      ]
     },
     "metadata": {},
     "output_type": "display_data"
    },
    {
     "data": {
      "image/png": "[encoded data removed]",
      "text/plain": [
       "<Figure size 640x480 with 1 Axes>"
      ]
     },
     "metadata": {},
     "output_type": "display_data"
    },
    {
     "data": {
      "image/png": "[encoded data removed]",
      "text/plain": [
       "<Figure size 640x480 with 1 Axes>"
      ]
     },
     "metadata": {},
     "output_type": "display_data"
    },
    {
     "data": {
      "image/png": "[encoded data removed]",
      "text/plain": [
       "<Figure size 640x480 with 1 Axes>"
      ]
     },
     "metadata": {},
     "output_type": "display_data"
    },
    {
     "data": {
      "image/png": "[encoded data removed]",
      "text/plain": [
       "<Figure size 640x480 with 1 Axes>"
      ]
     },
     "metadata": {},
     "output_type": "display_data"
    }
   ],
   "source": [
    "kolom = ['hujan','kelembabpan','tekanan_udara', 'temperature', 'tingkat_cahaya','keterangan']\n",
    "\n",
    "for i in kolom:\n",
    "    plt.boxplot(weather[i])\n",
    "    plt.title(\"Boxplot \" + i)\n",
    "    plt.show()"
   ]
  },
  {
   "cell_type": "code",
   "execution_count": 18,
   "metadata": {},
   "outputs": [
    {
     "data": {
      "text/html": [
       "<div>\n",
       "<style scoped>\n",
       "    .dataframe tbody tr th:only-of-type {\n",
       "        vertical-align: middle;\n",
       "    }\n",
       "\n",
       "    .dataframe tbody tr th {\n",
       "        vertical-align: top;\n",
       "    }\n",
       "\n",
       "    .dataframe thead th {\n",
       "        text-align: right;\n",
       "    }\n",
       "</style>\n",
       "<table border=\"1\" class=\"dataframe\">\n",
       "  <thead>\n",
       "    <tr style=\"text-align: right;\">\n",
       "      <th></th>\n",
       "      <th>hujan</th>\n",
       "      <th>kelembabpan</th>\n",
       "      <th>tekanan_udara</th>\n",
       "      <th>temperature</th>\n",
       "      <th>tingkat_cahaya</th>\n",
       "      <th>keterangan</th>\n",
       "    </tr>\n",
       "  </thead>\n",
       "  <tbody>\n",
       "    <tr>\n",
       "      <th>0</th>\n",
       "      <td>0</td>\n",
       "      <td>98</td>\n",
       "      <td>93657.02</td>\n",
       "      <td>23</td>\n",
       "      <td>0</td>\n",
       "      <td>0</td>\n",
       "    </tr>\n",
       "    <tr>\n",
       "      <th>1</th>\n",
       "      <td>0</td>\n",
       "      <td>98</td>\n",
       "      <td>93656.45</td>\n",
       "      <td>23</td>\n",
       "      <td>0</td>\n",
       "      <td>0</td>\n",
       "    </tr>\n",
       "    <tr>\n",
       "      <th>2</th>\n",
       "      <td>0</td>\n",
       "      <td>98</td>\n",
       "      <td>93656.99</td>\n",
       "      <td>23</td>\n",
       "      <td>0</td>\n",
       "      <td>0</td>\n",
       "    </tr>\n",
       "    <tr>\n",
       "      <th>3</th>\n",
       "      <td>0</td>\n",
       "      <td>98</td>\n",
       "      <td>93656.55</td>\n",
       "      <td>23</td>\n",
       "      <td>0</td>\n",
       "      <td>0</td>\n",
       "    </tr>\n",
       "    <tr>\n",
       "      <th>4</th>\n",
       "      <td>0</td>\n",
       "      <td>98</td>\n",
       "      <td>93657.02</td>\n",
       "      <td>23</td>\n",
       "      <td>0</td>\n",
       "      <td>0</td>\n",
       "    </tr>\n",
       "    <tr>\n",
       "      <th>...</th>\n",
       "      <td>...</td>\n",
       "      <td>...</td>\n",
       "      <td>...</td>\n",
       "      <td>...</td>\n",
       "      <td>...</td>\n",
       "      <td>...</td>\n",
       "    </tr>\n",
       "    <tr>\n",
       "      <th>49303</th>\n",
       "      <td>0</td>\n",
       "      <td>98</td>\n",
       "      <td>93613.57</td>\n",
       "      <td>23</td>\n",
       "      <td>0</td>\n",
       "      <td>0</td>\n",
       "    </tr>\n",
       "    <tr>\n",
       "      <th>49304</th>\n",
       "      <td>0</td>\n",
       "      <td>98</td>\n",
       "      <td>93613.58</td>\n",
       "      <td>23</td>\n",
       "      <td>0</td>\n",
       "      <td>0</td>\n",
       "    </tr>\n",
       "    <tr>\n",
       "      <th>49305</th>\n",
       "      <td>0</td>\n",
       "      <td>98</td>\n",
       "      <td>93613.53</td>\n",
       "      <td>23</td>\n",
       "      <td>0</td>\n",
       "      <td>0</td>\n",
       "    </tr>\n",
       "    <tr>\n",
       "      <th>49306</th>\n",
       "      <td>0</td>\n",
       "      <td>98</td>\n",
       "      <td>93613.22</td>\n",
       "      <td>23</td>\n",
       "      <td>0</td>\n",
       "      <td>0</td>\n",
       "    </tr>\n",
       "    <tr>\n",
       "      <th>49307</th>\n",
       "      <td>0</td>\n",
       "      <td>98</td>\n",
       "      <td>93612.99</td>\n",
       "      <td>23</td>\n",
       "      <td>0</td>\n",
       "      <td>0</td>\n",
       "    </tr>\n",
       "  </tbody>\n",
       "</table>\n",
       "<p>20420 rows × 6 columns</p>\n",
       "</div>"
      ],
      "text/plain": [
       "       hujan  kelembabpan  tekanan_udara  temperature  tingkat_cahaya  \\\n",
       "0          0           98       93657.02           23               0   \n",
       "1          0           98       93656.45           23               0   \n",
       "2          0           98       93656.99           23               0   \n",
       "3          0           98       93656.55           23               0   \n",
       "4          0           98       93657.02           23               0   \n",
       "...      ...          ...            ...          ...             ...   \n",
       "49303      0           98       93613.57           23               0   \n",
       "49304      0           98       93613.58           23               0   \n",
       "49305      0           98       93613.53           23               0   \n",
       "49306      0           98       93613.22           23               0   \n",
       "49307      0           98       93612.99           23               0   \n",
       "\n",
       "       keterangan  \n",
       "0               0  \n",
       "1               0  \n",
       "2               0  \n",
       "3               0  \n",
       "4               0  \n",
       "...           ...  \n",
       "49303           0  \n",
       "49304           0  \n",
       "49305           0  \n",
       "49306           0  \n",
       "49307           0  \n",
       "\n",
       "[20420 rows x 6 columns]"
      ]
     },
     "execution_count": 18,
     "metadata": {},
     "output_type": "execute_result"
    }
   ],
   "source": [
    "# Mencari nilai Q! dan Q3\n",
    "Q1 = weather.quantile(0.25)\n",
    "Q3 = weather.quantile(0.75)\n",
    "\n",
    "# Menghitung IQR\n",
    "IQR = Q3 - Q1\n",
    "\n",
    "# Menentukan batas atas dan batas bawah (threshold) dengan menggunakan nilai IQR\n",
    "upper_limit = Q3 + 1.5 * IQR\n",
    "lower_limit = Q1 - 1.5 * IQR\n",
    "\n",
    "# Menggunakan perulangan untuk membersihkan nilai outliers\n",
    "for col in weather.columns[:-1]:\n",
    "    data = weather[(weather[col] >= lower_limit[col]) & (weather[col] <= upper_limit[col])]\n",
    "\n",
    "# Menampilkan data setelah nilai outliers dibersihkan\n",
    "data"
   ]
  },
  {
   "cell_type": "code",
   "execution_count": 19,
   "metadata": {},
   "outputs": [
    {
     "data": {
      "image/png": "[encoded data removed]",
      "text/plain": [
       "<Figure size 640x480 with 1 Axes>"
      ]
     },
     "metadata": {},
     "output_type": "display_data"
    },
    {
     "data": {
      "image/png": "[encoded data removed]",
      "text/plain": [
       "<Figure size 640x480 with 1 Axes>"
      ]
     },
     "metadata": {},
     "output_type": "display_data"
    },
    {
     "data": {
      "image/png": "[encoded data removed]",
      "text/plain": [
       "<Figure size 640x480 with 1 Axes>"
      ]
     },
     "metadata": {},
     "output_type": "display_data"
    },
    {
     "data": {
      "image/png": "[encoded data removed]",
      "text/plain": [
       "<Figure size 640x480 with 1 Axes>"
      ]
     },
     "metadata": {},
     "output_type": "display_data"
    },
    {
     "data": {
      "image/png": "[encoded data removed]",
      "text/plain": [
       "<Figure size 640x480 with 1 Axes>"
      ]
     },
     "metadata": {},
     "output_type": "display_data"
    },
    {
     "data": {
      "image/png": "[encoded data removed]",
      "text/plain": [
       "<Figure size 640x480 with 1 Axes>"
      ]
     },
     "metadata": {},
     "output_type": "display_data"
    }
   ],
   "source": [
    "kolom = ['hujan','kelembabpan','tekanan_udara', 'temperature', 'tingkat_cahaya','keterangan']\n",
    "\n",
    "for i in kolom:\n",
    "    plt.boxplot(data[i])\n",
    "    plt.title(\"Boxplot \" + i)\n",
    "    plt.show()"
   ]
  },
  {
   "cell_type": "markdown",
   "metadata": {},
   "source": [
    "## EDA"
   ]
  },
  {
   "cell_type": "code",
   "execution_count": 20,
   "metadata": {},
   "outputs": [
    {
     "data": {
      "text/plain": [
       "<Axes: ylabel='count'>"
      ]
     },
     "execution_count": 20,
     "metadata": {},
     "output_type": "execute_result"
    },
    {
     "data": {
      "image/png": "[encoded data removed]",
      "text/plain": [
       "<Figure size 640x480 with 1 Axes>"
      ]
     },
     "metadata": {},
     "output_type": "display_data"
    }
   ],
   "source": [
    "sns.countplot(weather)"
   ]
  },
  {
   "cell_type": "code",
   "execution_count": 21,
   "metadata": {},
   "outputs": [
    {
     "data": {
      "image/png": "[encoded data removed]",
      "text/plain": [
       "<Figure size 640x480 with 1 Axes>"
      ]
     },
     "metadata": {},
     "output_type": "display_data"
    }
   ],
   "source": [
    "plt.bar(weather['keterangan'],height=12)    \n",
    "plt.show()"
   ]
  },
  {
   "cell_type": "code",
   "execution_count": 22,
   "metadata": {},
   "outputs": [
    {
     "data": {
      "text/plain": [
       "<Axes: >"
      ]
     },
     "execution_count": 22,
     "metadata": {},
     "output_type": "execute_result"
    },
    {
     "data": {
      "image/png": "[encoded data removed]",
      "text/plain": [
       "<Figure size 640x480 with 2 Axes>"
      ]
     },
     "metadata": {},
     "output_type": "display_data"
    }
   ],
   "source": [
    "corr = weather.corr()\n",
    "sns.heatmap(corr,annot=True)"
   ]
  },
  {
   "cell_type": "code",
   "execution_count": 23,
   "metadata": {},
   "outputs": [],
   "source": [
    "from imblearn.over_sampling import SMOTE\n",
    "\n",
    "X = data.drop(['keterangan'],axis=1)\n",
    "y = data['keterangan']\n",
    "# Buat objek SMOTE\n",
    "sm = SMOTE(random_state=42)\n",
    "\n",
    "# Resample data menggunakan SMOTE\n",
    "X_res, y_res = sm.fit_resample(X, y)"
   ]
  },
  {
   "cell_type": "code",
   "execution_count": 24,
   "metadata": {},
   "outputs": [
    {
     "data": {
      "text/html": [
       "<div>\n",
       "<style scoped>\n",
       "    .dataframe tbody tr th:only-of-type {\n",
       "        vertical-align: middle;\n",
       "    }\n",
       "\n",
       "    .dataframe tbody tr th {\n",
       "        vertical-align: top;\n",
       "    }\n",
       "\n",
       "    .dataframe thead th {\n",
       "        text-align: right;\n",
       "    }\n",
       "</style>\n",
       "<table border=\"1\" class=\"dataframe\">\n",
       "  <thead>\n",
       "    <tr style=\"text-align: right;\">\n",
       "      <th></th>\n",
       "      <th>hujan</th>\n",
       "      <th>kelembabpan</th>\n",
       "      <th>tekanan_udara</th>\n",
       "      <th>temperature</th>\n",
       "      <th>tingkat_cahaya</th>\n",
       "    </tr>\n",
       "  </thead>\n",
       "  <tbody>\n",
       "    <tr>\n",
       "      <th>0</th>\n",
       "      <td>0</td>\n",
       "      <td>98</td>\n",
       "      <td>93657.020000</td>\n",
       "      <td>23</td>\n",
       "      <td>0</td>\n",
       "    </tr>\n",
       "    <tr>\n",
       "      <th>1</th>\n",
       "      <td>0</td>\n",
       "      <td>98</td>\n",
       "      <td>93656.450000</td>\n",
       "      <td>23</td>\n",
       "      <td>0</td>\n",
       "    </tr>\n",
       "    <tr>\n",
       "      <th>2</th>\n",
       "      <td>0</td>\n",
       "      <td>98</td>\n",
       "      <td>93656.990000</td>\n",
       "      <td>23</td>\n",
       "      <td>0</td>\n",
       "    </tr>\n",
       "    <tr>\n",
       "      <th>3</th>\n",
       "      <td>0</td>\n",
       "      <td>98</td>\n",
       "      <td>93656.550000</td>\n",
       "      <td>23</td>\n",
       "      <td>0</td>\n",
       "    </tr>\n",
       "    <tr>\n",
       "      <th>4</th>\n",
       "      <td>0</td>\n",
       "      <td>98</td>\n",
       "      <td>93657.020000</td>\n",
       "      <td>23</td>\n",
       "      <td>0</td>\n",
       "    </tr>\n",
       "    <tr>\n",
       "      <th>...</th>\n",
       "      <td>...</td>\n",
       "      <td>...</td>\n",
       "      <td>...</td>\n",
       "      <td>...</td>\n",
       "      <td>...</td>\n",
       "    </tr>\n",
       "    <tr>\n",
       "      <th>51109</th>\n",
       "      <td>11</td>\n",
       "      <td>98</td>\n",
       "      <td>93410.046590</td>\n",
       "      <td>23</td>\n",
       "      <td>0</td>\n",
       "    </tr>\n",
       "    <tr>\n",
       "      <th>51110</th>\n",
       "      <td>25</td>\n",
       "      <td>98</td>\n",
       "      <td>93400.819806</td>\n",
       "      <td>23</td>\n",
       "      <td>0</td>\n",
       "    </tr>\n",
       "    <tr>\n",
       "      <th>51111</th>\n",
       "      <td>16</td>\n",
       "      <td>98</td>\n",
       "      <td>93402.768445</td>\n",
       "      <td>23</td>\n",
       "      <td>0</td>\n",
       "    </tr>\n",
       "    <tr>\n",
       "      <th>51112</th>\n",
       "      <td>29</td>\n",
       "      <td>98</td>\n",
       "      <td>93553.519656</td>\n",
       "      <td>23</td>\n",
       "      <td>0</td>\n",
       "    </tr>\n",
       "    <tr>\n",
       "      <th>51113</th>\n",
       "      <td>35</td>\n",
       "      <td>98</td>\n",
       "      <td>93390.374394</td>\n",
       "      <td>23</td>\n",
       "      <td>0</td>\n",
       "    </tr>\n",
       "  </tbody>\n",
       "</table>\n",
       "<p>51114 rows × 5 columns</p>\n",
       "</div>"
      ],
      "text/plain": [
       "       hujan  kelembabpan  tekanan_udara  temperature  tingkat_cahaya\n",
       "0          0           98   93657.020000           23               0\n",
       "1          0           98   93656.450000           23               0\n",
       "2          0           98   93656.990000           23               0\n",
       "3          0           98   93656.550000           23               0\n",
       "4          0           98   93657.020000           23               0\n",
       "...      ...          ...            ...          ...             ...\n",
       "51109     11           98   93410.046590           23               0\n",
       "51110     25           98   93400.819806           23               0\n",
       "51111     16           98   93402.768445           23               0\n",
       "51112     29           98   93553.519656           23               0\n",
       "51113     35           98   93390.374394           23               0\n",
       "\n",
       "[51114 rows x 5 columns]"
      ]
     },
     "execution_count": 24,
     "metadata": {},
     "output_type": "execute_result"
    }
   ],
   "source": [
    "X_res"
   ]
  },
  {
   "cell_type": "code",
   "execution_count": 25,
   "metadata": {},
   "outputs": [
    {
     "data": {
      "text/plain": [
       "0        0\n",
       "1        0\n",
       "2        0\n",
       "3        0\n",
       "4        0\n",
       "        ..\n",
       "51109    2\n",
       "51110    2\n",
       "51111    2\n",
       "51112    2\n",
       "51113    2\n",
       "Name: keterangan, Length: 51114, dtype: int32"
      ]
     },
     "execution_count": 25,
     "metadata": {},
     "output_type": "execute_result"
    }
   ],
   "source": [
    "y_res"
   ]
  },
  {
   "cell_type": "code",
   "execution_count": 26,
   "metadata": {},
   "outputs": [
    {
     "data": {
      "text/html": [
       "<div>\n",
       "<style scoped>\n",
       "    .dataframe tbody tr th:only-of-type {\n",
       "        vertical-align: middle;\n",
       "    }\n",
       "\n",
       "    .dataframe tbody tr th {\n",
       "        vertical-align: top;\n",
       "    }\n",
       "\n",
       "    .dataframe thead th {\n",
       "        text-align: right;\n",
       "    }\n",
       "</style>\n",
       "<table border=\"1\" class=\"dataframe\">\n",
       "  <thead>\n",
       "    <tr style=\"text-align: right;\">\n",
       "      <th></th>\n",
       "      <th>hujan</th>\n",
       "      <th>kelembabpan</th>\n",
       "      <th>tekanan_udara</th>\n",
       "      <th>temperature</th>\n",
       "      <th>tingkat_cahaya</th>\n",
       "      <th>keterangan</th>\n",
       "    </tr>\n",
       "  </thead>\n",
       "  <tbody>\n",
       "    <tr>\n",
       "      <th>0</th>\n",
       "      <td>0</td>\n",
       "      <td>98</td>\n",
       "      <td>93657.020000</td>\n",
       "      <td>23</td>\n",
       "      <td>0</td>\n",
       "      <td>0</td>\n",
       "    </tr>\n",
       "    <tr>\n",
       "      <th>1</th>\n",
       "      <td>0</td>\n",
       "      <td>98</td>\n",
       "      <td>93656.450000</td>\n",
       "      <td>23</td>\n",
       "      <td>0</td>\n",
       "      <td>0</td>\n",
       "    </tr>\n",
       "    <tr>\n",
       "      <th>2</th>\n",
       "      <td>0</td>\n",
       "      <td>98</td>\n",
       "      <td>93656.990000</td>\n",
       "      <td>23</td>\n",
       "      <td>0</td>\n",
       "      <td>0</td>\n",
       "    </tr>\n",
       "    <tr>\n",
       "      <th>3</th>\n",
       "      <td>0</td>\n",
       "      <td>98</td>\n",
       "      <td>93656.550000</td>\n",
       "      <td>23</td>\n",
       "      <td>0</td>\n",
       "      <td>0</td>\n",
       "    </tr>\n",
       "    <tr>\n",
       "      <th>4</th>\n",
       "      <td>0</td>\n",
       "      <td>98</td>\n",
       "      <td>93657.020000</td>\n",
       "      <td>23</td>\n",
       "      <td>0</td>\n",
       "      <td>0</td>\n",
       "    </tr>\n",
       "    <tr>\n",
       "      <th>...</th>\n",
       "      <td>...</td>\n",
       "      <td>...</td>\n",
       "      <td>...</td>\n",
       "      <td>...</td>\n",
       "      <td>...</td>\n",
       "      <td>...</td>\n",
       "    </tr>\n",
       "    <tr>\n",
       "      <th>51109</th>\n",
       "      <td>11</td>\n",
       "      <td>98</td>\n",
       "      <td>93410.046590</td>\n",
       "      <td>23</td>\n",
       "      <td>0</td>\n",
       "      <td>2</td>\n",
       "    </tr>\n",
       "    <tr>\n",
       "      <th>51110</th>\n",
       "      <td>25</td>\n",
       "      <td>98</td>\n",
       "      <td>93400.819806</td>\n",
       "      <td>23</td>\n",
       "      <td>0</td>\n",
       "      <td>2</td>\n",
       "    </tr>\n",
       "    <tr>\n",
       "      <th>51111</th>\n",
       "      <td>16</td>\n",
       "      <td>98</td>\n",
       "      <td>93402.768445</td>\n",
       "      <td>23</td>\n",
       "      <td>0</td>\n",
       "      <td>2</td>\n",
       "    </tr>\n",
       "    <tr>\n",
       "      <th>51112</th>\n",
       "      <td>29</td>\n",
       "      <td>98</td>\n",
       "      <td>93553.519656</td>\n",
       "      <td>23</td>\n",
       "      <td>0</td>\n",
       "      <td>2</td>\n",
       "    </tr>\n",
       "    <tr>\n",
       "      <th>51113</th>\n",
       "      <td>35</td>\n",
       "      <td>98</td>\n",
       "      <td>93390.374394</td>\n",
       "      <td>23</td>\n",
       "      <td>0</td>\n",
       "      <td>2</td>\n",
       "    </tr>\n",
       "  </tbody>\n",
       "</table>\n",
       "<p>51114 rows × 6 columns</p>\n",
       "</div>"
      ],
      "text/plain": [
       "       hujan  kelembabpan  tekanan_udara  temperature  tingkat_cahaya  \\\n",
       "0          0           98   93657.020000           23               0   \n",
       "1          0           98   93656.450000           23               0   \n",
       "2          0           98   93656.990000           23               0   \n",
       "3          0           98   93656.550000           23               0   \n",
       "4          0           98   93657.020000           23               0   \n",
       "...      ...          ...            ...          ...             ...   \n",
       "51109     11           98   93410.046590           23               0   \n",
       "51110     25           98   93400.819806           23               0   \n",
       "51111     16           98   93402.768445           23               0   \n",
       "51112     29           98   93553.519656           23               0   \n",
       "51113     35           98   93390.374394           23               0   \n",
       "\n",
       "       keterangan  \n",
       "0               0  \n",
       "1               0  \n",
       "2               0  \n",
       "3               0  \n",
       "4               0  \n",
       "...           ...  \n",
       "51109           2  \n",
       "51110           2  \n",
       "51111           2  \n",
       "51112           2  \n",
       "51113           2  \n",
       "\n",
       "[51114 rows x 6 columns]"
      ]
     },
     "execution_count": 26,
     "metadata": {},
     "output_type": "execute_result"
    }
   ],
   "source": [
    "data = pd.concat([X_res,y_res],axis=1)\n",
    "data"
   ]
  },
  {
   "cell_type": "code",
   "execution_count": 27,
   "metadata": {},
   "outputs": [
    {
     "name": "stdout",
     "output_type": "stream",
     "text": [
      "              precision    recall  f1-score   support\n",
      "\n",
      "           0       1.00      1.00      1.00      3463\n",
      "           1       1.00      1.00      1.00      3428\n",
      "           2       1.00      1.00      1.00      3332\n",
      "\n",
      "    accuracy                           1.00     10223\n",
      "   macro avg       1.00      1.00      1.00     10223\n",
      "weighted avg       1.00      1.00      1.00     10223\n",
      "\n"
     ]
    }
   ],
   "source": [
    "from sklearn.ensemble import RandomForestClassifier\n",
    "from sklearn.model_selection import train_test_split\n",
    "from sklearn.metrics import classification_report\n",
    "\n",
    "# Load data\n",
    "# Misalkan data yang digunakan tersimpan dalam variabel X dan target variabel y\n",
    "X = data.drop(['keterangan'],axis=1)\n",
    "y = data['keterangan']\n",
    "# Split data menjadi training dan testing\n",
    "X_train, X_test, y_train, y_test = train_test_split(X, y, test_size=0.2, random_state=42)\n",
    "\n",
    "# Membuat objek model Random Forest\n",
    "rf = RandomForestClassifier()\n",
    "\n",
    "# Melatih model pada data training\n",
    "rf.fit(X_train, y_train)\n",
    "\n",
    "# Memprediksi target variabel pada data testing\n",
    "y_pred = rf.predict(X_test)\n",
    "\n",
    "# Menampilkan laporan klasifikasi\n",
    "print(classification_report(y_test, y_pred))"
   ]
  },
  {
   "cell_type": "code",
   "execution_count": 28,
   "metadata": {},
   "outputs": [],
   "source": [
    "# joblib.dump(rf, '/weather_station/models/model.pkl')"
   ]
  },
  {
   "cell_type": "code",
   "execution_count": 29,
   "metadata": {},
   "outputs": [
    {
     "data": {
      "text/plain": [
       "array([ 0,  1,  2,  3,  4,  5,  8,  7,  6, 10,  9, 14, 13, 12, 11, 18, 17,\n",
       "       16, 15, 22, 21, 20, 19, 29, 28, 27, 26, 25, 24, 23, 35, 34, 33, 32,\n",
       "       31, 30, 41, 40, 39, 38, 37, 36, 48, 47, 46, 45, 44, 43, 42, 49, 50],\n",
       "      dtype=int64)"
      ]
     },
     "execution_count": 29,
     "metadata": {},
     "output_type": "execute_result"
    }
   ],
   "source": [
    "weather['tingkat_cahaya'].unique()"
   ]
  },
  {
   "cell_type": "code",
   "execution_count": 30,
   "metadata": {},
   "outputs": [
    {
     "data": {
      "text/plain": [
       "array([ 0,  1,  2,  6,  4,  3,  7,  5, 24, 23, 22, 21, 20, 55, 52, 51, 50,\n",
       "       37, 36, 34, 33, 32, 26, 19, 17, 18, 47, 44, 28, 27, 62, 49, 48, 45,\n",
       "       40, 39, 16, 15, 14, 13, 42, 38, 46, 41, 35, 30,  8, 12, 43, 31, 29,\n",
       "       25, 11, 10,  9], dtype=int64)"
      ]
     },
     "execution_count": 30,
     "metadata": {},
     "output_type": "execute_result"
    }
   ],
   "source": [
    "weather['hujan'].unique()"
   ]
  },
  {
   "cell_type": "code",
   "execution_count": 31,
   "metadata": {},
   "outputs": [
    {
     "data": {
      "text/plain": [
       "array([98, 97, 96, 95, 94, 93, 91, 90, 88, 89, 86, 85, 84, 83, 82, 81, 80,\n",
       "       79, 78, 76, 77, 74, 73, 72, 75, 71, 70, 69, 68, 67, 66, 65, 64, 62,\n",
       "       63, 61, 60, 58, 57, 56, 54, 55, 53, 52, 51, 50, 48, 47, 45, 46, 49,\n",
       "       44, 43, 59, 87, 92, 40, 42, 41, 39, 38, 37, 35, 36, 34, 33, 32, 31,\n",
       "       18, 17, 19, 20], dtype=int64)"
      ]
     },
     "execution_count": 31,
     "metadata": {},
     "output_type": "execute_result"
    }
   ],
   "source": [
    "weather['kelembabpan'].unique()"
   ]
  },
  {
   "cell_type": "code",
   "execution_count": 32,
   "metadata": {},
   "outputs": [
    {
     "data": {
      "text/plain": [
       "array([23, 22, 24, 25, 26, 27, 28, 29, 30, 31, 32, 33, 34, 35, 36, 38, 37,\n",
       "       39, 40, 41, 42, 21], dtype=int64)"
      ]
     },
     "execution_count": 32,
     "metadata": {},
     "output_type": "execute_result"
    }
   ],
   "source": [
    "weather['temperature'].unique()"
   ]
  },
  {
   "cell_type": "code",
   "execution_count": 33,
   "metadata": {},
   "outputs": [
    {
     "data": {
      "text/plain": [
       "array([93657.02, 93656.45, 93656.99, ..., 93613.53, 93613.22, 93612.99])"
      ]
     },
     "execution_count": 33,
     "metadata": {},
     "output_type": "execute_result"
    }
   ],
   "source": [
    "weather['tekanan_udara'].unique()"
   ]
  },
  {
   "cell_type": "code",
   "execution_count": 34,
   "metadata": {},
   "outputs": [
    {
     "data": {
      "text/plain": [
       "array([0, 2, 1])"
      ]
     },
     "execution_count": 34,
     "metadata": {},
     "output_type": "execute_result"
    }
   ],
   "source": [
    "weather['keterangan'].unique()"
   ]
  },
  {
   "cell_type": "code",
   "execution_count": null,
   "metadata": {},
   "outputs": [],
   "source": []
  }
 ],
 "metadata": {
  "kernelspec": {
   "display_name": "Python 3.10.8 ('portofolio')",
   "language": "python",
   "name": "python3"
  },
  "language_info": {
   "codemirror_mode": {
    "name": "ipython",
    "version": 3
   },
   "file_extension": ".py",
   "mimetype": "text/x-python",
   "name": "python",
   "nbconvert_exporter": "python",
   "pygments_lexer": "ipython3",
   "version": "3.10.8"
  },
  "orig_nbformat": 4,
  "vscode": {
   "interpreter": {
    "hash": "6cd182019d280e9c2624f02d0f435994d3a12fd3110b026b324927bf80cb863f"
   }
  }
 },
 "nbformat": 4,
 "nbformat_minor": 2
}
